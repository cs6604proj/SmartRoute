{
 "metadata": {
  "name": ""
 },
 "nbformat": 3,
 "nbformat_minor": 0,
 "worksheets": [
  {
   "cells": [
    {
     "cell_type": "code",
     "collapsed": false,
     "input": [
      "from datetime import date\n",
      "import tornado.escape\n",
      "import tornado.ioloop\n",
      "import tornado.web\n",
      " \n",
      "class VersionHandler(tornado.web.RequestHandler):\n",
      "    def get(self):\n",
      "        response = { 'version': '3.5.1',\n",
      "                     'last_build':  date.today().isoformat() }\n",
      "        self.write(response)\n",
      " \n",
      "class GetGameByIdHandler(tornado.web.RequestHandler):\n",
      "    def get(self):\n",
      "        name = self.get_argument(\"name\")\n",
      "        response = { 'id': name,\n",
      "                     'name': 'Crazy Game',\n",
      "                     'release_date': date.today().isoformat() }\n",
      "        self.write(response)\n",
      " \n",
      "application = tornado.web.Application([\n",
      "    (r\"/getgamebyid\", GetGameByIdHandler),\n",
      "    (r\"/version\", VersionHandler)\n",
      "])\n",
      " \n",
      "if __name__ == \"__main__\":\n",
      "    application.listen(9092)\n",
      "    tornado.ioloop.IOLoop.instance().start()"
     ],
     "language": "python",
     "metadata": {},
     "outputs": [
      {
       "output_type": "stream",
       "stream": "stderr",
       "text": [
        "ERROR:tornado.application:Uncaught exception GET /getgamebyid?name=ui (127.0.0.1)\n",
        "HTTPRequest(protocol='http', host='localhost:9092', method='GET', uri='/getgamebyid?name=ui', version='HTTP/1.1', remote_ip='127.0.0.1', headers={'Connection': 'keep-alive', 'Accept-Language': 'en-US,en;q=0.8,es;q=0.6,ja;q=0.4,zh-CN;q=0.2', 'Accept-Encoding': 'gzip,deflate,sdch', 'Cookie': 'username=M2Y5MmZmNTMtNDNmMS00NGM3LWJlNTQtMDc0YmEwMzhmNWU0|1398109395|817f84cf5162d6f521cbf0bf1d91e0f302873f8c', 'Host': 'localhost:9092', 'Accept': 'text/html,application/xhtml+xml,application/xml;q=0.9,image/webp,*/*;q=0.8', 'User-Agent': 'Mozilla/5.0 (X11; Linux x86_64) AppleWebKit/537.36 (KHTML, like Gecko) Chrome/33.0.1750.152 Safari/537.36'})\n",
        "Traceback (most recent call last):\n",
        "  File \"/usr/local/lib/python2.7/dist-packages/tornado/web.py\", line 1218, in _when_complete\n",
        "    callback()\n",
        "  File \"/usr/local/lib/python2.7/dist-packages/tornado/web.py\", line 1239, in _execute_method\n",
        "    self._when_complete(method(*self.path_args, **self.path_kwargs),\n",
        "  File \"<ipython-input-6-c5228c420715>\", line 15, in get\n",
        "    response = { 'id': params,\n",
        "NameError: global name 'params' is not defined\n"
       ]
      },
      {
       "output_type": "stream",
       "stream": "stderr",
       "text": [
        "ERROR:tornado.access:500 GET /getgamebyid?name=ui (127.0.0.1) 1.49ms\n"
       ]
      },
      {
       "output_type": "stream",
       "stream": "stderr",
       "text": [
        "WARNING:tornado.access:404 GET /favicon.ico (127.0.0.1) 0.34ms\n"
       ]
      }
     ],
     "prompt_number": "*"
    }
   ],
   "metadata": {}
  }
 ]
}