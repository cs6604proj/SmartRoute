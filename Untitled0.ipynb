{
 "metadata": {
  "name": ""
 },
 "nbformat": 3,
 "nbformat_minor": 0,
 "worksheets": [
  {
   "cells": [
    {
     "cell_type": "code",
     "collapsed": false,
     "input": [
      "from datetime import date\n",
      "import tornado.escape\n",
      "import tornado.ioloop\n",
      "import tornado.web\n",
      " \n",
      "class VersionHandler(tornado.web.RequestHandler):\n",
      "    def get(self):\n",
      "        response = { 'version': '3.5.1',\n",
      "                     'last_build':  date.today().isoformat() }\n",
      "        self.write(response)\n",
      " \n",
      "class GetGameByIdHandler(tornado.web.RequestHandler):\n",
      "    def get(self):\n",
      "        name = self.get_argument(\"name\")\n",
      "        response = { 'id': name,\n",
      "                     'name': 'Crazy Game',\n",
      "                     'release_date': date.today().isoformat() }\n",
      "        self.write(response)\n",
      " \n",
      "application = tornado.web.Application([\n",
      "    (r\"/getgamebyid\", GetGameByIdHandler),\n",
      "    (r\"/version\", VersionHandler)\n",
      "])\n",
      " \n",
      "if __name__ == \"__main__\":\n",
      "    application.listen(9093)\n",
      "    tornado.ioloop.IOLoop.instance().start()"
     ],
     "language": "python",
     "metadata": {},
     "outputs": [],
     "prompt_number": "*"
    }
   ],
   "metadata": {}
  }
 ]
}