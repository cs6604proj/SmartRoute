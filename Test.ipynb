{
 "metadata": {
  "name": ""
 },
 "nbformat": 3,
 "nbformat_minor": 0,
 "worksheets": [
  {
   "cells": [
    {
     "cell_type": "code",
     "collapsed": false,
     "input": [
      "def distance(lat1, lon1, lat2, lon2):\n",
      "        '''\n",
      "        * Calculates the distance between two points given their (lat, lon) co-ordinates.\n",
      "        * It uses the Spherical Law Of Cosines (http://en.wikipedia.org/wiki/Spherical_law_of_cosines):\n",
      "        *\n",
      "        * cos(c) = cos(a) * cos(b) + sin(a) * sin(b) * cos(C)                        (1)\n",
      "        *\n",
      "        * In this case:\n",
      "        * a = lat1 in radians, b = lat2 in radians, C = (lon2 - lon1) in radians\n",
      "        * and because the latitude range is  [-\u03c0/2, \u03c0/2] instead of [0, \u03c0]\n",
      "        * and the longitude range is [-\u03c0, \u03c0] instead of [0, 2\u03c0]\n",
      "        * (1) transforms into:\n",
      "        *\n",
      "        * x = cos(c) = sin(a) * sin(b) + cos(a) * cos(b) * cos(C)\n",
      "        *\n",
      "        * Finally the distance is arccos(x)\n",
      "        '''\n",
      "        if ((lat1 == lat2) and (lon1 == lon2)):\n",
      "            return 0\n",
      " \n",
      "        try:\n",
      "            delta = lon2 - lon1\n",
      "            a = math.radians(lat1)\n",
      "            b = math.radians(lat2)\n",
      "            C = math.radians(delta)\n",
      "            x = math.sin(a) * math.sin(b) + math.cos(a) * math.cos(b) * math.cos(C)\n",
      "            distance = math.acos(x) # in radians\n",
      "            distance  = math.degrees(distance) # in degrees\n",
      "            distance  = distance * 60 # 60 nautical miles / lat degree\n",
      "            distance = distance * 1852 # conversion to meters\n",
      "            distance  = round(distance)\n",
      "            return distance;\n",
      "        except:\n",
      "            return 0"
     ],
     "language": "python",
     "metadata": {},
     "outputs": [],
     "prompt_number": 3
    }
   ],
   "metadata": {}
  }
 ]
}